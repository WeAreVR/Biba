{
 "cells": [
  {
   "cell_type": "code",
   "execution_count": 30,
   "id": "c1d5b45b",
   "metadata": {},
   "outputs": [],
   "source": [
    "library(\"tidyverse\")\n",
    "library(\"ggplot2\")"
   ]
  },
  {
   "cell_type": "code",
   "execution_count": 31,
   "id": "88caf4de",
   "metadata": {},
   "outputs": [],
   "source": [
    "dataset = read.csv(\"BankChurners.csv\")\n",
    "dataset <- dataset[, -c(22:23)]"
   ]
  },
  {
   "cell_type": "code",
   "execution_count": 32,
   "id": "bd82e286",
   "metadata": {},
   "outputs": [
    {
     "data": {
      "text/plain": [
       "   CLIENTNUM                   Attrition_Flag  Customer_Age   Gender  \n",
       " Min.   :708082083   Attrited Customer:1627   Min.   :26.00   F:5358  \n",
       " 1st Qu.:713036770   Existing Customer:8500   1st Qu.:41.00   M:4769  \n",
       " Median :717926358                            Median :46.00           \n",
       " Mean   :739177606                            Mean   :46.33           \n",
       " 3rd Qu.:773143533                            3rd Qu.:52.00           \n",
       " Max.   :828343083                            Max.   :73.00           \n",
       "                                                                      \n",
       " Dependent_count      Education_Level  Marital_Status       Income_Category\n",
       " Min.   :0.000   College      :1013   Divorced: 748   $120K +       : 727  \n",
       " 1st Qu.:1.000   Doctorate    : 451   Married :4687   $40K - $60K   :1790  \n",
       " Median :2.000   Graduate     :3128   Single  :3943   $60K - $80K   :1402  \n",
       " Mean   :2.346   High School  :2013   Unknown : 749   $80K - $120K  :1535  \n",
       " 3rd Qu.:3.000   Post-Graduate: 516                   Less than $40K:3561  \n",
       " Max.   :5.000   Uneducated   :1487                   Unknown       :1112  \n",
       "                 Unknown      :1519                                        \n",
       "  Card_Category  Months_on_book  Total_Relationship_Count\n",
       " Blue    :9436   Min.   :13.00   Min.   :1.000           \n",
       " Gold    : 116   1st Qu.:31.00   1st Qu.:3.000           \n",
       " Platinum:  20   Median :36.00   Median :4.000           \n",
       " Silver  : 555   Mean   :35.93   Mean   :3.813           \n",
       "                 3rd Qu.:40.00   3rd Qu.:5.000           \n",
       "                 Max.   :56.00   Max.   :6.000           \n",
       "                                                         \n",
       " Months_Inactive_12_mon Contacts_Count_12_mon  Credit_Limit  \n",
       " Min.   :0.000          Min.   :0.000         Min.   : 1438  \n",
       " 1st Qu.:2.000          1st Qu.:2.000         1st Qu.: 2555  \n",
       " Median :2.000          Median :2.000         Median : 4549  \n",
       " Mean   :2.341          Mean   :2.455         Mean   : 8632  \n",
       " 3rd Qu.:3.000          3rd Qu.:3.000         3rd Qu.:11068  \n",
       " Max.   :6.000          Max.   :6.000         Max.   :34516  \n",
       "                                                             \n",
       " Total_Revolving_Bal Avg_Open_To_Buy Total_Amt_Chng_Q4_Q1 Total_Trans_Amt\n",
       " Min.   :   0        Min.   :    3   Min.   :0.0000       Min.   :  510  \n",
       " 1st Qu.: 359        1st Qu.: 1324   1st Qu.:0.6310       1st Qu.: 2156  \n",
       " Median :1276        Median : 3474   Median :0.7360       Median : 3899  \n",
       " Mean   :1163        Mean   : 7469   Mean   :0.7599       Mean   : 4404  \n",
       " 3rd Qu.:1784        3rd Qu.: 9859   3rd Qu.:0.8590       3rd Qu.: 4741  \n",
       " Max.   :2517        Max.   :34516   Max.   :3.3970       Max.   :18484  \n",
       "                                                                         \n",
       " Total_Trans_Ct   Total_Ct_Chng_Q4_Q1 Avg_Utilization_Ratio\n",
       " Min.   : 10.00   Min.   :0.0000      Min.   :0.0000       \n",
       " 1st Qu.: 45.00   1st Qu.:0.5820      1st Qu.:0.0230       \n",
       " Median : 67.00   Median :0.7020      Median :0.1760       \n",
       " Mean   : 64.86   Mean   :0.7122      Mean   :0.2749       \n",
       " 3rd Qu.: 81.00   3rd Qu.:0.8180      3rd Qu.:0.5030       \n",
       " Max.   :139.00   Max.   :3.7140      Max.   :0.9990       \n",
       "                                                           "
      ]
     },
     "metadata": {},
     "output_type": "display_data"
    }
   ],
   "source": [
    "summary(dataset)"
   ]
  },
  {
   "cell_type": "code",
   "execution_count": 9,
   "id": "892c945a",
   "metadata": {},
   "outputs": [
    {
     "name": "stdout",
     "output_type": "stream",
     "text": [
      "Classes 'tbl_df', 'tbl' and 'data.frame':\t10127 obs. of  21 variables:\n",
      " $ CLIENTNUM               : num  7.69e+08 8.19e+08 7.14e+08 7.70e+08 7.09e+08 ...\n",
      " $ Attrition_Flag          : chr  \"Existing Customer\" \"Existing Customer\" \"Existing Customer\" \"Existing Customer\" ...\n",
      " $ Customer_Age            : num  45 49 51 40 40 44 51 32 37 48 ...\n",
      " $ Gender                  : chr  \"M\" \"F\" \"M\" \"F\" ...\n",
      " $ Dependent_count         : num  3 5 3 4 3 2 4 0 3 2 ...\n",
      " $ Education_Level         : chr  \"High School\" \"Graduate\" \"Graduate\" \"High School\" ...\n",
      " $ Marital_Status          : chr  \"Married\" \"Single\" \"Married\" \"Unknown\" ...\n",
      " $ Income_Category         : chr  \"$60K - $80K\" \"Less than $40K\" \"$80K - $120K\" \"Less than $40K\" ...\n",
      " $ Card_Category           : chr  \"Blue\" \"Blue\" \"Blue\" \"Blue\" ...\n",
      " $ Months_on_book          : num  39 44 36 34 21 36 46 27 36 36 ...\n",
      " $ Total_Relationship_Count: num  5 6 4 3 5 3 6 2 5 6 ...\n",
      " $ Months_Inactive_12_mon  : num  1 1 1 4 1 1 1 2 2 3 ...\n",
      " $ Contacts_Count_12_mon   : num  3 2 0 1 0 2 3 2 0 3 ...\n",
      " $ Credit_Limit            : num  12691 8256 3418 3313 4716 ...\n",
      " $ Total_Revolving_Bal     : num  777 864 0 2517 0 ...\n",
      " $ Avg_Open_To_Buy         : num  11914 7392 3418 796 4716 ...\n",
      " $ Total_Amt_Chng_Q4_Q1    : num  1.33 1.54 2.59 1.4 2.17 ...\n",
      " $ Total_Trans_Amt         : num  1144 1291 1887 1171 816 ...\n",
      " $ Total_Trans_Ct          : num  42 33 20 20 28 24 31 36 24 32 ...\n",
      " $ Total_Ct_Chng_Q4_Q1     : num  1.62 3.71 2.33 2.33 2.5 ...\n",
      " $ Avg_Utilization_Ratio   : num  0.061 0.105 0 0.76 0 0.311 0.066 0.048 0.113 0.144 ...\n"
     ]
    }
   ],
   "source": [
    "str(dataset)"
   ]
  },
  {
   "cell_type": "markdown",
   "id": "96bab783",
   "metadata": {},
   "source": [
    "# Here we display the distribution of customers who leaves depending on their education level"
   ]
  },
  {
   "cell_type": "code",
   "execution_count": 10,
   "id": "6f8205f6",
   "metadata": {},
   "outputs": [
    {
     "data": {
      "image/png": "[encoded data removed]",
      "text/plain": [
       "plot without title"
      ]
     },
     "metadata": {},
     "output_type": "display_data"
    }
   ],
   "source": [
    "dataset %>%\n",
    "ggplot(aes(x=Education_Level,fill=Attrition_Flag))+\n",
    "geom_bar(alpha=0.5,position = \"fill\")"
   ]
  },
  {
   "cell_type": "markdown",
   "id": "8ec5d3a2",
   "metadata": {},
   "source": [
    "The Procentive distibution"
   ]
  },
  {
   "cell_type": "code",
   "execution_count": 11,
   "id": "6da35ed9",
   "metadata": {},
   "outputs": [
    {
     "data": {
      "text/html": [
       "<table>\n",
       "<thead><tr><th scope=col>Education_Level</th><th scope=col>Attrition_Flag</th><th scope=col>n</th><th scope=col>p</th></tr></thead>\n",
       "<tbody>\n",
       "\t<tr><td>College          </td><td>Attrited Customer</td><td> 154             </td><td>15.20237         </td></tr>\n",
       "\t<tr><td>College          </td><td>Existing Customer</td><td> 859             </td><td>84.79763         </td></tr>\n",
       "\t<tr><td>Doctorate        </td><td>Attrited Customer</td><td>  95             </td><td>21.06430         </td></tr>\n",
       "\t<tr><td>Doctorate        </td><td>Existing Customer</td><td> 356             </td><td>78.93570         </td></tr>\n",
       "\t<tr><td>Graduate         </td><td>Attrited Customer</td><td> 487             </td><td>15.56905         </td></tr>\n",
       "\t<tr><td>Graduate         </td><td>Existing Customer</td><td>2641             </td><td>84.43095         </td></tr>\n",
       "\t<tr><td>High School      </td><td>Attrited Customer</td><td> 306             </td><td>15.20119         </td></tr>\n",
       "\t<tr><td>High School      </td><td>Existing Customer</td><td>1707             </td><td>84.79881         </td></tr>\n",
       "\t<tr><td>Post-Graduate    </td><td>Attrited Customer</td><td>  92             </td><td>17.82946         </td></tr>\n",
       "\t<tr><td>Post-Graduate    </td><td>Existing Customer</td><td> 424             </td><td>82.17054         </td></tr>\n",
       "\t<tr><td>Uneducated       </td><td>Attrited Customer</td><td> 237             </td><td>15.93813         </td></tr>\n",
       "\t<tr><td>Uneducated       </td><td>Existing Customer</td><td>1250             </td><td>84.06187         </td></tr>\n",
       "\t<tr><td>Unknown          </td><td>Attrited Customer</td><td> 256             </td><td>16.85319         </td></tr>\n",
       "\t<tr><td>Unknown          </td><td>Existing Customer</td><td>1263             </td><td>83.14681         </td></tr>\n",
       "</tbody>\n",
       "</table>\n"
      ],
      "text/latex": [
       "\\begin{tabular}{r|llll}\n",
       " Education\\_Level & Attrition\\_Flag & n & p\\\\\n",
       "\\hline\n",
       "\t College           & Attrited Customer &  154              & 15.20237         \\\\\n",
       "\t College           & Existing Customer &  859              & 84.79763         \\\\\n",
       "\t Doctorate         & Attrited Customer &   95              & 21.06430         \\\\\n",
       "\t Doctorate         & Existing Customer &  356              & 78.93570         \\\\\n",
       "\t Graduate          & Attrited Customer &  487              & 15.56905         \\\\\n",
       "\t Graduate          & Existing Customer & 2641              & 84.43095         \\\\\n",
       "\t High School       & Attrited Customer &  306              & 15.20119         \\\\\n",
       "\t High School       & Existing Customer & 1707              & 84.79881         \\\\\n",
       "\t Post-Graduate     & Attrited Customer &   92              & 17.82946         \\\\\n",
       "\t Post-Graduate     & Existing Customer &  424              & 82.17054         \\\\\n",
       "\t Uneducated        & Attrited Customer &  237              & 15.93813         \\\\\n",
       "\t Uneducated        & Existing Customer & 1250              & 84.06187         \\\\\n",
       "\t Unknown           & Attrited Customer &  256              & 16.85319         \\\\\n",
       "\t Unknown           & Existing Customer & 1263              & 83.14681         \\\\\n",
       "\\end{tabular}\n"
      ],
      "text/markdown": [
       "\n",
       "| Education_Level | Attrition_Flag | n | p |\n",
       "|---|---|---|---|\n",
       "| College           | Attrited Customer |  154              | 15.20237          |\n",
       "| College           | Existing Customer |  859              | 84.79763          |\n",
       "| Doctorate         | Attrited Customer |   95              | 21.06430          |\n",
       "| Doctorate         | Existing Customer |  356              | 78.93570          |\n",
       "| Graduate          | Attrited Customer |  487              | 15.56905          |\n",
       "| Graduate          | Existing Customer | 2641              | 84.43095          |\n",
       "| High School       | Attrited Customer |  306              | 15.20119          |\n",
       "| High School       | Existing Customer | 1707              | 84.79881          |\n",
       "| Post-Graduate     | Attrited Customer |   92              | 17.82946          |\n",
       "| Post-Graduate     | Existing Customer |  424              | 82.17054          |\n",
       "| Uneducated        | Attrited Customer |  237              | 15.93813          |\n",
       "| Uneducated        | Existing Customer | 1250              | 84.06187          |\n",
       "| Unknown           | Attrited Customer |  256              | 16.85319          |\n",
       "| Unknown           | Existing Customer | 1263              | 83.14681          |\n",
       "\n"
      ],
      "text/plain": [
       "   Education_Level Attrition_Flag    n    p       \n",
       "1  College         Attrited Customer  154 15.20237\n",
       "2  College         Existing Customer  859 84.79763\n",
       "3  Doctorate       Attrited Customer   95 21.06430\n",
       "4  Doctorate       Existing Customer  356 78.93570\n",
       "5  Graduate        Attrited Customer  487 15.56905\n",
       "6  Graduate        Existing Customer 2641 84.43095\n",
       "7  High School     Attrited Customer  306 15.20119\n",
       "8  High School     Existing Customer 1707 84.79881\n",
       "9  Post-Graduate   Attrited Customer   92 17.82946\n",
       "10 Post-Graduate   Existing Customer  424 82.17054\n",
       "11 Uneducated      Attrited Customer  237 15.93813\n",
       "12 Uneducated      Existing Customer 1250 84.06187\n",
       "13 Unknown         Attrited Customer  256 16.85319\n",
       "14 Unknown         Existing Customer 1263 83.14681"
      ]
     },
     "metadata": {},
     "output_type": "display_data"
    }
   ],
   "source": [
    "dataset %>%\n",
    "count(Education_Level,Attrition_Flag)%>%\n",
    "group_by(Education_Level)%>%\n",
    "mutate(p=n/sum(n)*100)"
   ]
  },
  {
   "cell_type": "markdown",
   "id": "390483a9",
   "metadata": {},
   "source": [
    "# The Distibution of customers leaving and the amount of inactive Months"
   ]
  },
  {
   "cell_type": "code",
   "execution_count": 12,
   "id": "cff1d09d",
   "metadata": {},
   "outputs": [],
   "source": [
    "Attrition_Flag_And_Inactive <- select(dataset, Attrition_Flag, Months_Inactive_12_mon)"
   ]
  },
  {
   "cell_type": "code",
   "execution_count": 13,
   "id": "0929fd2b",
   "metadata": {},
   "outputs": [],
   "source": [
    "Attrition_Flag_And_Inactive <- dataset %>%\n",
    "count(Attrition_Flag, Months_Inactive_12_mon)%>%\n",
    "group_by(Months_Inactive_12_mon) %>%\n",
    "mutate(p=n/sum(n)*100)\n",
    "\n",
    "Attrition_Flag_Attrited <- Attrition_Flag_And_Inactive %>%\n",
    "filter(Attrition_Flag == \"Attrited Customer\")\n",
    "\n",
    "Attrition_Flag_Existing <- Attrition_Flag_And_Inactive %>%\n",
    "filter(Attrition_Flag == \"Existing Customer\")\n",
    "\n",
    "Attrition_Flag_And_Months_Inactive = merge(x=Attrition_Flag_Attrited,y=Attrition_Flag_Existing,by=\"Months_Inactive_12_mon\")\n",
    "\n",
    "better_Attrition_Flag_And_Months_Inactive <- Attrition_Flag_And_Months_Inactive %>%\n",
    "select(Months_Inactive_12_mon, p.x, p.y)\n",
    "\n",
    "names(better_Attrition_Flag_And_Months_Inactive)[2] <- \"Stays\"\n",
    "names(better_Attrition_Flag_And_Months_Inactive)[3] <-\"Leaves\""
   ]
  },
  {
   "cell_type": "code",
   "execution_count": 14,
   "id": "b04b8830",
   "metadata": {},
   "outputs": [
    {
     "data": {
      "text/html": [
       "<table>\n",
       "<thead><tr><th scope=col>Months_Inactive_12_mon</th><th scope=col>Stays</th><th scope=col>Leaves</th></tr></thead>\n",
       "<tbody>\n",
       "\t<tr><td>0       </td><td>51.72414</td><td>48.27586</td></tr>\n",
       "\t<tr><td>1       </td><td> 4.47828</td><td>95.52172</td></tr>\n",
       "\t<tr><td>2       </td><td>15.38696</td><td>84.61304</td></tr>\n",
       "\t<tr><td>3       </td><td>21.47686</td><td>78.52314</td></tr>\n",
       "\t<tr><td>4       </td><td>29.88506</td><td>70.11494</td></tr>\n",
       "\t<tr><td>5       </td><td>17.97753</td><td>82.02247</td></tr>\n",
       "\t<tr><td>6       </td><td>15.32258</td><td>84.67742</td></tr>\n",
       "</tbody>\n",
       "</table>\n"
      ],
      "text/latex": [
       "\\begin{tabular}{r|lll}\n",
       " Months\\_Inactive\\_12\\_mon & Stays & Leaves\\\\\n",
       "\\hline\n",
       "\t 0        & 51.72414 & 48.27586\\\\\n",
       "\t 1        &  4.47828 & 95.52172\\\\\n",
       "\t 2        & 15.38696 & 84.61304\\\\\n",
       "\t 3        & 21.47686 & 78.52314\\\\\n",
       "\t 4        & 29.88506 & 70.11494\\\\\n",
       "\t 5        & 17.97753 & 82.02247\\\\\n",
       "\t 6        & 15.32258 & 84.67742\\\\\n",
       "\\end{tabular}\n"
      ],
      "text/markdown": [
       "\n",
       "| Months_Inactive_12_mon | Stays | Leaves |\n",
       "|---|---|---|\n",
       "| 0        | 51.72414 | 48.27586 |\n",
       "| 1        |  4.47828 | 95.52172 |\n",
       "| 2        | 15.38696 | 84.61304 |\n",
       "| 3        | 21.47686 | 78.52314 |\n",
       "| 4        | 29.88506 | 70.11494 |\n",
       "| 5        | 17.97753 | 82.02247 |\n",
       "| 6        | 15.32258 | 84.67742 |\n",
       "\n"
      ],
      "text/plain": [
       "  Months_Inactive_12_mon Stays    Leaves  \n",
       "1 0                      51.72414 48.27586\n",
       "2 1                       4.47828 95.52172\n",
       "3 2                      15.38696 84.61304\n",
       "4 3                      21.47686 78.52314\n",
       "5 4                      29.88506 70.11494\n",
       "6 5                      17.97753 82.02247\n",
       "7 6                      15.32258 84.67742"
      ]
     },
     "metadata": {},
     "output_type": "display_data"
    }
   ],
   "source": [
    "better_Attrition_Flag_And_Months_Inactive"
   ]
  },
  {
   "cell_type": "code",
   "execution_count": 15,
   "id": "4696086e",
   "metadata": {},
   "outputs": [
    {
     "data": {
      "image/png": "[encoded data removed]",
      "text/plain": [
       "plot without title"
      ]
     },
     "metadata": {},
     "output_type": "display_data"
    }
   ],
   "source": [
    "dataset %>%\n",
    "ggplot(aes(x=Months_Inactive_12_mon,fill=Attrition_Flag))+\n",
    "geom_bar(alpha=0.5,position = \"fill\")"
   ]
  },
  {
   "cell_type": "code",
   "execution_count": 84,
   "id": "2b1a45ec",
   "metadata": {},
   "outputs": [],
   "source": [
    "test <- dataset %>%\n",
    "filter(Attrition_Flag == \"Attrited Customer\") %>%\n",
    "count(Education_Level,Attrition_Flag, Income_Category)%>%\n",
    "mutate(p=n/sum(n)*100)"
   ]
  },
  {
   "cell_type": "code",
   "execution_count": 85,
   "id": "bde22d45",
   "metadata": {},
   "outputs": [
    {
     "data": {
      "text/html": [
       "<table>\n",
       "<thead><tr><th scope=col>Income_Category</th><th scope=col>n</th></tr></thead>\n",
       "<tbody>\n",
       "\t<tr><td>$120K +       </td><td>126           </td></tr>\n",
       "\t<tr><td>$40K - $60K   </td><td>271           </td></tr>\n",
       "\t<tr><td>$60K - $80K   </td><td>189           </td></tr>\n",
       "\t<tr><td>$80K - $120K  </td><td>242           </td></tr>\n",
       "\t<tr><td>Less than $40K</td><td>612           </td></tr>\n",
       "\t<tr><td>Unknown       </td><td>187           </td></tr>\n",
       "</tbody>\n",
       "</table>\n"
      ],
      "text/latex": [
       "\\begin{tabular}{r|ll}\n",
       " Income\\_Category & n\\\\\n",
       "\\hline\n",
       "\t \\$120K +        & 126             \\\\\n",
       "\t \\$40K - \\$60K    & 271               \\\\\n",
       "\t \\$60K - \\$80K    & 189               \\\\\n",
       "\t \\$80K - \\$120K   & 242               \\\\\n",
       "\t Less than \\$40K & 612             \\\\\n",
       "\t Unknown        & 187           \\\\\n",
       "\\end{tabular}\n"
      ],
      "text/markdown": [
       "\n",
       "| Income_Category | n |\n",
       "|---|---|\n",
       "| $120K +        | 126            |\n",
       "| $40K - $60K    | 271            |\n",
       "| $60K - $80K    | 189            |\n",
       "| $80K - $120K   | 242            |\n",
       "| Less than $40K | 612            |\n",
       "| Unknown        | 187            |\n",
       "\n"
      ],
      "text/plain": [
       "  Income_Category n  \n",
       "1 $120K +         126\n",
       "2 $40K - $60K     271\n",
       "3 $60K - $80K     189\n",
       "4 $80K - $120K    242\n",
       "5 Less than $40K  612\n",
       "6 Unknown         187"
      ]
     },
     "metadata": {},
     "output_type": "display_data"
    }
   ],
   "source": [
    "aggregate(n~Income_Category, test,sum)"
   ]
  },
  {
   "cell_type": "code",
   "execution_count": 81,
   "id": "e543cc87",
   "metadata": {},
   "outputs": [
    {
     "data": {
      "text/html": [
       "<table>\n",
       "<thead><tr><th scope=col>Education_Level</th><th scope=col>Attrition_Flag</th><th scope=col>Income_Category</th><th scope=col>n</th><th scope=col>p</th></tr></thead>\n",
       "<tbody>\n",
       "\t<tr><td>College          </td><td>Attrited Customer</td><td>$120K +          </td><td> 12              </td><td> 0.7375538       </td></tr>\n",
       "\t<tr><td>College          </td><td>Attrited Customer</td><td>$40K - $60K      </td><td> 24              </td><td> 1.4751076       </td></tr>\n",
       "\t<tr><td>College          </td><td>Attrited Customer</td><td>$60K - $80K      </td><td> 17              </td><td> 1.0448679       </td></tr>\n",
       "\t<tr><td>College          </td><td>Attrited Customer</td><td>$80K - $120K     </td><td> 36              </td><td> 2.2126613       </td></tr>\n",
       "\t<tr><td>College          </td><td>Attrited Customer</td><td>Less than $40K   </td><td> 49              </td><td> 3.0116779       </td></tr>\n",
       "\t<tr><td>College          </td><td>Attrited Customer</td><td>Unknown          </td><td> 16              </td><td> 0.9834050       </td></tr>\n",
       "\t<tr><td>Doctorate        </td><td>Attrited Customer</td><td>$120K +          </td><td>  8              </td><td> 0.4917025       </td></tr>\n",
       "\t<tr><td>Doctorate        </td><td>Attrited Customer</td><td>$40K - $60K      </td><td> 11              </td><td> 0.6760910       </td></tr>\n",
       "\t<tr><td>Doctorate        </td><td>Attrited Customer</td><td>$60K - $80K      </td><td>  7              </td><td> 0.4302397       </td></tr>\n",
       "\t<tr><td>Doctorate        </td><td>Attrited Customer</td><td>$80K - $120K     </td><td> 11              </td><td> 0.6760910       </td></tr>\n",
       "\t<tr><td>Doctorate        </td><td>Attrited Customer</td><td>Less than $40K   </td><td> 42              </td><td> 2.5814382       </td></tr>\n",
       "\t<tr><td>Doctorate        </td><td>Attrited Customer</td><td>Unknown          </td><td> 16              </td><td> 0.9834050       </td></tr>\n",
       "\t<tr><td>Graduate         </td><td>Attrited Customer</td><td>$120K +          </td><td> 32              </td><td> 1.9668101       </td></tr>\n",
       "\t<tr><td>Graduate         </td><td>Attrited Customer</td><td>$40K - $60K      </td><td> 77              </td><td> 4.7326368       </td></tr>\n",
       "\t<tr><td>Graduate         </td><td>Attrited Customer</td><td>$60K - $80K      </td><td> 52              </td><td> 3.1960664       </td></tr>\n",
       "\t<tr><td>Graduate         </td><td>Attrited Customer</td><td>$80K - $120K     </td><td> 67              </td><td> 4.1180086       </td></tr>\n",
       "\t<tr><td>Graduate         </td><td>Attrited Customer</td><td>Less than $40K   </td><td>210              </td><td>12.9071911       </td></tr>\n",
       "\t<tr><td>Graduate         </td><td>Attrited Customer</td><td>Unknown          </td><td> 49              </td><td> 3.0116779       </td></tr>\n",
       "\t<tr><td>High School      </td><td>Attrited Customer</td><td>$120K +          </td><td> 28              </td><td> 1.7209588       </td></tr>\n",
       "\t<tr><td>High School      </td><td>Attrited Customer</td><td>$40K - $60K      </td><td> 51              </td><td> 3.1346036       </td></tr>\n",
       "\t<tr><td>High School      </td><td>Attrited Customer</td><td>$60K - $80K      </td><td> 42              </td><td> 2.5814382       </td></tr>\n",
       "\t<tr><td>High School      </td><td>Attrited Customer</td><td>$80K - $120K     </td><td> 41              </td><td> 2.5199754       </td></tr>\n",
       "\t<tr><td>High School      </td><td>Attrited Customer</td><td>Less than $40K   </td><td>101              </td><td> 6.2077443       </td></tr>\n",
       "\t<tr><td>High School      </td><td>Attrited Customer</td><td>Unknown          </td><td> 43              </td><td> 2.6429010       </td></tr>\n",
       "\t<tr><td>Post-Graduate    </td><td>Attrited Customer</td><td>$120K +          </td><td>  4              </td><td> 0.2458513       </td></tr>\n",
       "\t<tr><td>Post-Graduate    </td><td>Attrited Customer</td><td>$40K - $60K      </td><td> 17              </td><td> 1.0448679       </td></tr>\n",
       "\t<tr><td>Post-Graduate    </td><td>Attrited Customer</td><td>$60K - $80K      </td><td> 16              </td><td> 0.9834050       </td></tr>\n",
       "\t<tr><td>Post-Graduate    </td><td>Attrited Customer</td><td>$80K - $120K     </td><td> 17              </td><td> 1.0448679       </td></tr>\n",
       "\t<tr><td>Post-Graduate    </td><td>Attrited Customer</td><td>Less than $40K   </td><td> 34              </td><td> 2.0897357       </td></tr>\n",
       "\t<tr><td>Post-Graduate    </td><td>Attrited Customer</td><td>Unknown          </td><td>  4              </td><td> 0.2458513       </td></tr>\n",
       "\t<tr><td>Uneducated       </td><td>Attrited Customer</td><td>$120K +          </td><td> 23              </td><td> 1.4136447       </td></tr>\n",
       "\t<tr><td>Uneducated       </td><td>Attrited Customer</td><td>$40K - $60K      </td><td> 41              </td><td> 2.5199754       </td></tr>\n",
       "\t<tr><td>Uneducated       </td><td>Attrited Customer</td><td>$60K - $80K      </td><td> 24              </td><td> 1.4751076       </td></tr>\n",
       "\t<tr><td>Uneducated       </td><td>Attrited Customer</td><td>$80K - $120K     </td><td> 37              </td><td> 2.2741242       </td></tr>\n",
       "\t<tr><td>Uneducated       </td><td>Attrited Customer</td><td>Less than $40K   </td><td> 80              </td><td> 4.9170252       </td></tr>\n",
       "\t<tr><td>Uneducated       </td><td>Attrited Customer</td><td>Unknown          </td><td> 32              </td><td> 1.9668101       </td></tr>\n",
       "\t<tr><td>Unknown          </td><td>Attrited Customer</td><td>$120K +          </td><td> 19              </td><td> 1.1677935       </td></tr>\n",
       "\t<tr><td>Unknown          </td><td>Attrited Customer</td><td>$40K - $60K      </td><td> 50              </td><td> 3.0731407       </td></tr>\n",
       "\t<tr><td>Unknown          </td><td>Attrited Customer</td><td>$60K - $80K      </td><td> 31              </td><td> 1.9053473       </td></tr>\n",
       "\t<tr><td>Unknown          </td><td>Attrited Customer</td><td>$80K - $120K     </td><td> 33              </td><td> 2.0282729       </td></tr>\n",
       "\t<tr><td>Unknown          </td><td>Attrited Customer</td><td>Less than $40K   </td><td> 96              </td><td> 5.9004302       </td></tr>\n",
       "\t<tr><td>Unknown          </td><td>Attrited Customer</td><td>Unknown          </td><td> 27              </td><td> 1.6594960       </td></tr>\n",
       "</tbody>\n",
       "</table>\n"
      ],
      "text/latex": [
       "\\begin{tabular}{r|lllll}\n",
       " Education\\_Level & Attrition\\_Flag & Income\\_Category & n & p\\\\\n",
       "\\hline\n",
       "\t College           & Attrited Customer & \\$120K +         &  12               &  0.7375538       \\\\\n",
       "\t College            & Attrited Customer  & \\$40K - \\$60K    &  24                &  1.4751076        \\\\\n",
       "\t College            & Attrited Customer  & \\$60K - \\$80K    &  17                &  1.0448679        \\\\\n",
       "\t College            & Attrited Customer  & \\$80K - \\$120K   &  36                &  2.2126613        \\\\\n",
       "\t College           & Attrited Customer & Less than \\$40K  &  49               &  3.0116779       \\\\\n",
       "\t College           & Attrited Customer & Unknown           &  16               &  0.9834050       \\\\\n",
       "\t Doctorate         & Attrited Customer & \\$120K +         &   8               &  0.4917025       \\\\\n",
       "\t Doctorate          & Attrited Customer  & \\$40K - \\$60K    &  11                &  0.6760910        \\\\\n",
       "\t Doctorate          & Attrited Customer  & \\$60K - \\$80K    &   7                &  0.4302397        \\\\\n",
       "\t Doctorate          & Attrited Customer  & \\$80K - \\$120K   &  11                &  0.6760910        \\\\\n",
       "\t Doctorate         & Attrited Customer & Less than \\$40K  &  42               &  2.5814382       \\\\\n",
       "\t Doctorate         & Attrited Customer & Unknown           &  16               &  0.9834050       \\\\\n",
       "\t Graduate          & Attrited Customer & \\$120K +         &  32               &  1.9668101       \\\\\n",
       "\t Graduate           & Attrited Customer  & \\$40K - \\$60K    &  77                &  4.7326368        \\\\\n",
       "\t Graduate           & Attrited Customer  & \\$60K - \\$80K    &  52                &  3.1960664        \\\\\n",
       "\t Graduate           & Attrited Customer  & \\$80K - \\$120K   &  67                &  4.1180086        \\\\\n",
       "\t Graduate          & Attrited Customer & Less than \\$40K  & 210               & 12.9071911       \\\\\n",
       "\t Graduate          & Attrited Customer & Unknown           &  49               &  3.0116779       \\\\\n",
       "\t High School       & Attrited Customer & \\$120K +         &  28               &  1.7209588       \\\\\n",
       "\t High School        & Attrited Customer  & \\$40K - \\$60K    &  51                &  3.1346036        \\\\\n",
       "\t High School        & Attrited Customer  & \\$60K - \\$80K    &  42                &  2.5814382        \\\\\n",
       "\t High School        & Attrited Customer  & \\$80K - \\$120K   &  41                &  2.5199754        \\\\\n",
       "\t High School       & Attrited Customer & Less than \\$40K  & 101               &  6.2077443       \\\\\n",
       "\t High School       & Attrited Customer & Unknown           &  43               &  2.6429010       \\\\\n",
       "\t Post-Graduate     & Attrited Customer & \\$120K +         &   4               &  0.2458513       \\\\\n",
       "\t Post-Graduate      & Attrited Customer  & \\$40K - \\$60K    &  17                &  1.0448679        \\\\\n",
       "\t Post-Graduate      & Attrited Customer  & \\$60K - \\$80K    &  16                &  0.9834050        \\\\\n",
       "\t Post-Graduate      & Attrited Customer  & \\$80K - \\$120K   &  17                &  1.0448679        \\\\\n",
       "\t Post-Graduate     & Attrited Customer & Less than \\$40K  &  34               &  2.0897357       \\\\\n",
       "\t Post-Graduate     & Attrited Customer & Unknown           &   4               &  0.2458513       \\\\\n",
       "\t Uneducated        & Attrited Customer & \\$120K +         &  23               &  1.4136447       \\\\\n",
       "\t Uneducated         & Attrited Customer  & \\$40K - \\$60K    &  41                &  2.5199754        \\\\\n",
       "\t Uneducated         & Attrited Customer  & \\$60K - \\$80K    &  24                &  1.4751076        \\\\\n",
       "\t Uneducated         & Attrited Customer  & \\$80K - \\$120K   &  37                &  2.2741242        \\\\\n",
       "\t Uneducated        & Attrited Customer & Less than \\$40K  &  80               &  4.9170252       \\\\\n",
       "\t Uneducated        & Attrited Customer & Unknown           &  32               &  1.9668101       \\\\\n",
       "\t Unknown           & Attrited Customer & \\$120K +         &  19               &  1.1677935       \\\\\n",
       "\t Unknown            & Attrited Customer  & \\$40K - \\$60K    &  50                &  3.0731407        \\\\\n",
       "\t Unknown            & Attrited Customer  & \\$60K - \\$80K    &  31                &  1.9053473        \\\\\n",
       "\t Unknown            & Attrited Customer  & \\$80K - \\$120K   &  33                &  2.0282729        \\\\\n",
       "\t Unknown           & Attrited Customer & Less than \\$40K  &  96               &  5.9004302       \\\\\n",
       "\t Unknown           & Attrited Customer & Unknown           &  27               &  1.6594960       \\\\\n",
       "\\end{tabular}\n"
      ],
      "text/markdown": [
       "\n",
       "| Education_Level | Attrition_Flag | Income_Category | n | p |\n",
       "|---|---|---|---|---|\n",
       "| College           | Attrited Customer | $120K +           |  12               |  0.7375538        |\n",
       "| College           | Attrited Customer | $40K - $60K       |  24               |  1.4751076        |\n",
       "| College           | Attrited Customer | $60K - $80K       |  17               |  1.0448679        |\n",
       "| College           | Attrited Customer | $80K - $120K      |  36               |  2.2126613        |\n",
       "| College           | Attrited Customer | Less than $40K    |  49               |  3.0116779        |\n",
       "| College           | Attrited Customer | Unknown           |  16               |  0.9834050        |\n",
       "| Doctorate         | Attrited Customer | $120K +           |   8               |  0.4917025        |\n",
       "| Doctorate         | Attrited Customer | $40K - $60K       |  11               |  0.6760910        |\n",
       "| Doctorate         | Attrited Customer | $60K - $80K       |   7               |  0.4302397        |\n",
       "| Doctorate         | Attrited Customer | $80K - $120K      |  11               |  0.6760910        |\n",
       "| Doctorate         | Attrited Customer | Less than $40K    |  42               |  2.5814382        |\n",
       "| Doctorate         | Attrited Customer | Unknown           |  16               |  0.9834050        |\n",
       "| Graduate          | Attrited Customer | $120K +           |  32               |  1.9668101        |\n",
       "| Graduate          | Attrited Customer | $40K - $60K       |  77               |  4.7326368        |\n",
       "| Graduate          | Attrited Customer | $60K - $80K       |  52               |  3.1960664        |\n",
       "| Graduate          | Attrited Customer | $80K - $120K      |  67               |  4.1180086        |\n",
       "| Graduate          | Attrited Customer | Less than $40K    | 210               | 12.9071911        |\n",
       "| Graduate          | Attrited Customer | Unknown           |  49               |  3.0116779        |\n",
       "| High School       | Attrited Customer | $120K +           |  28               |  1.7209588        |\n",
       "| High School       | Attrited Customer | $40K - $60K       |  51               |  3.1346036        |\n",
       "| High School       | Attrited Customer | $60K - $80K       |  42               |  2.5814382        |\n",
       "| High School       | Attrited Customer | $80K - $120K      |  41               |  2.5199754        |\n",
       "| High School       | Attrited Customer | Less than $40K    | 101               |  6.2077443        |\n",
       "| High School       | Attrited Customer | Unknown           |  43               |  2.6429010        |\n",
       "| Post-Graduate     | Attrited Customer | $120K +           |   4               |  0.2458513        |\n",
       "| Post-Graduate     | Attrited Customer | $40K - $60K       |  17               |  1.0448679        |\n",
       "| Post-Graduate     | Attrited Customer | $60K - $80K       |  16               |  0.9834050        |\n",
       "| Post-Graduate     | Attrited Customer | $80K - $120K      |  17               |  1.0448679        |\n",
       "| Post-Graduate     | Attrited Customer | Less than $40K    |  34               |  2.0897357        |\n",
       "| Post-Graduate     | Attrited Customer | Unknown           |   4               |  0.2458513        |\n",
       "| Uneducated        | Attrited Customer | $120K +           |  23               |  1.4136447        |\n",
       "| Uneducated        | Attrited Customer | $40K - $60K       |  41               |  2.5199754        |\n",
       "| Uneducated        | Attrited Customer | $60K - $80K       |  24               |  1.4751076        |\n",
       "| Uneducated        | Attrited Customer | $80K - $120K      |  37               |  2.2741242        |\n",
       "| Uneducated        | Attrited Customer | Less than $40K    |  80               |  4.9170252        |\n",
       "| Uneducated        | Attrited Customer | Unknown           |  32               |  1.9668101        |\n",
       "| Unknown           | Attrited Customer | $120K +           |  19               |  1.1677935        |\n",
       "| Unknown           | Attrited Customer | $40K - $60K       |  50               |  3.0731407        |\n",
       "| Unknown           | Attrited Customer | $60K - $80K       |  31               |  1.9053473        |\n",
       "| Unknown           | Attrited Customer | $80K - $120K      |  33               |  2.0282729        |\n",
       "| Unknown           | Attrited Customer | Less than $40K    |  96               |  5.9004302        |\n",
       "| Unknown           | Attrited Customer | Unknown           |  27               |  1.6594960        |\n",
       "\n"
      ],
      "text/plain": [
       "   Education_Level Attrition_Flag    Income_Category n   p         \n",
       "1  College         Attrited Customer $120K +          12  0.7375538\n",
       "2  College         Attrited Customer $40K - $60K      24  1.4751076\n",
       "3  College         Attrited Customer $60K - $80K      17  1.0448679\n",
       "4  College         Attrited Customer $80K - $120K     36  2.2126613\n",
       "5  College         Attrited Customer Less than $40K   49  3.0116779\n",
       "6  College         Attrited Customer Unknown          16  0.9834050\n",
       "7  Doctorate       Attrited Customer $120K +           8  0.4917025\n",
       "8  Doctorate       Attrited Customer $40K - $60K      11  0.6760910\n",
       "9  Doctorate       Attrited Customer $60K - $80K       7  0.4302397\n",
       "10 Doctorate       Attrited Customer $80K - $120K     11  0.6760910\n",
       "11 Doctorate       Attrited Customer Less than $40K   42  2.5814382\n",
       "12 Doctorate       Attrited Customer Unknown          16  0.9834050\n",
       "13 Graduate        Attrited Customer $120K +          32  1.9668101\n",
       "14 Graduate        Attrited Customer $40K - $60K      77  4.7326368\n",
       "15 Graduate        Attrited Customer $60K - $80K      52  3.1960664\n",
       "16 Graduate        Attrited Customer $80K - $120K     67  4.1180086\n",
       "17 Graduate        Attrited Customer Less than $40K  210 12.9071911\n",
       "18 Graduate        Attrited Customer Unknown          49  3.0116779\n",
       "19 High School     Attrited Customer $120K +          28  1.7209588\n",
       "20 High School     Attrited Customer $40K - $60K      51  3.1346036\n",
       "21 High School     Attrited Customer $60K - $80K      42  2.5814382\n",
       "22 High School     Attrited Customer $80K - $120K     41  2.5199754\n",
       "23 High School     Attrited Customer Less than $40K  101  6.2077443\n",
       "24 High School     Attrited Customer Unknown          43  2.6429010\n",
       "25 Post-Graduate   Attrited Customer $120K +           4  0.2458513\n",
       "26 Post-Graduate   Attrited Customer $40K - $60K      17  1.0448679\n",
       "27 Post-Graduate   Attrited Customer $60K - $80K      16  0.9834050\n",
       "28 Post-Graduate   Attrited Customer $80K - $120K     17  1.0448679\n",
       "29 Post-Graduate   Attrited Customer Less than $40K   34  2.0897357\n",
       "30 Post-Graduate   Attrited Customer Unknown           4  0.2458513\n",
       "31 Uneducated      Attrited Customer $120K +          23  1.4136447\n",
       "32 Uneducated      Attrited Customer $40K - $60K      41  2.5199754\n",
       "33 Uneducated      Attrited Customer $60K - $80K      24  1.4751076\n",
       "34 Uneducated      Attrited Customer $80K - $120K     37  2.2741242\n",
       "35 Uneducated      Attrited Customer Less than $40K   80  4.9170252\n",
       "36 Uneducated      Attrited Customer Unknown          32  1.9668101\n",
       "37 Unknown         Attrited Customer $120K +          19  1.1677935\n",
       "38 Unknown         Attrited Customer $40K - $60K      50  3.0731407\n",
       "39 Unknown         Attrited Customer $60K - $80K      31  1.9053473\n",
       "40 Unknown         Attrited Customer $80K - $120K     33  2.0282729\n",
       "41 Unknown         Attrited Customer Less than $40K   96  5.9004302\n",
       "42 Unknown         Attrited Customer Unknown          27  1.6594960"
      ]
     },
     "metadata": {},
     "output_type": "display_data"
    }
   ],
   "source": [
    "test"
   ]
  },
  {
   "cell_type": "code",
   "execution_count": 82,
   "id": "4ac4cf97",
   "metadata": {},
   "outputs": [
    {
     "data": {
      "image/png": "[encoded data removed]",
      "text/plain": [
       "plot without title"
      ]
     },
     "metadata": {},
     "output_type": "display_data"
    }
   ],
   "source": [
    "ggplot(test, aes(x = Education_Level, y = Income_Category, fill = p)) +\n",
    "  geom_tile()"
   ]
  },
  {
   "cell_type": "code",
   "execution_count": 16,
   "id": "f843ded0",
   "metadata": {},
   "outputs": [
    {
     "name": "stderr",
     "output_type": "stream",
     "text": [
      "Warning message in mean.default(dataset[dataset$Attrition_Flag == \"Existing Customer\", :\n",
      "\"argument is not numeric or logical: returning NA\""
     ]
    },
    {
     "data": {
      "text/html": [
       "&lt;NA&gt;"
      ],
      "text/latex": [
       "<NA>"
      ],
      "text/markdown": [
       "&lt;NA&gt;"
      ],
      "text/plain": [
       "[1] NA"
      ]
     },
     "metadata": {},
     "output_type": "display_data"
    }
   ],
   "source": [
    "mean(dataset[dataset$Attrition_Flag == 'Existing Customer','Credit_Limit'])"
   ]
  },
  {
   "cell_type": "code",
   "execution_count": 17,
   "id": "58b7221b",
   "metadata": {},
   "outputs": [
    {
     "data": {
      "image/png": "[encoded data removed]",
      "text/plain": [
       "plot without title"
      ]
     },
     "metadata": {},
     "output_type": "display_data"
    }
   ],
   "source": [
    "dataset%>%\n",
    "#filter(Attrition_Flag)%>%\n",
    "#ggplot(aes(x=Attrition_Flag,y=Credit_Limit,col=Attrition_Flag))+\n",
    "ggplot(aes(x=Attrition_Flag,y=Credit_Limit,fill=Attrition_Flag))+\n",
    "geom_boxplot(alpha=0.5)\n"
   ]
  },
  {
   "cell_type": "code",
   "execution_count": null,
   "id": "1d63d64d",
   "metadata": {},
   "outputs": [],
   "source": []
  },
  {
   "cell_type": "code",
   "execution_count": null,
   "id": "3571b664",
   "metadata": {},
   "outputs": [],
   "source": []
  }
 ],
 "metadata": {
  "kernelspec": {
   "display_name": "R",
   "language": "R",
   "name": "ir"
  },
  "language_info": {
   "codemirror_mode": "r",
   "file_extension": ".r",
   "mimetype": "text/x-r-source",
   "name": "R",
   "pygments_lexer": "r",
   "version": "3.6.1"
  }
 },
 "nbformat": 4,
 "nbformat_minor": 5
}
