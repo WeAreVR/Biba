{
 "cells": [
  {
   "cell_type": "code",
   "execution_count": 1,
   "id": "0399ab16",
   "metadata": {},
   "outputs": [
    {
     "name": "stderr",
     "output_type": "stream",
     "text": [
      "Registered S3 methods overwritten by 'ggplot2':\n",
      "  method         from \n",
      "  [.quosures     rlang\n",
      "  c.quosures     rlang\n",
      "  print.quosures rlang\n",
      "Registered S3 method overwritten by 'rvest':\n",
      "  method            from\n",
      "  read_xml.response xml2\n",
      "-- Attaching packages --------------------------------------- tidyverse 1.2.1 --\n",
      "v ggplot2 3.1.1       v purrr   0.3.2  \n",
      "v tibble  2.1.1       v dplyr   0.8.0.1\n",
      "v tidyr   0.8.3       v stringr 1.4.0  \n",
      "v readr   1.3.1       v forcats 0.4.0  \n",
      "-- Conflicts ------------------------------------------ tidyverse_conflicts() --\n",
      "x dplyr::filter() masks stats::filter()\n",
      "x dplyr::lag()    masks stats::lag()\n"
     ]
    }
   ],
   "source": [
    "library(\"tidyverse\")"
   ]
  },
  {
   "cell_type": "code",
   "execution_count": 4,
   "id": "e1c8074f",
   "metadata": {},
   "outputs": [],
   "source": [
    "dataset = read.csv(\"C://Users//thoma//OneDrive//Dokumenter//GitHub//Biba1//BankChurners.csv\")\n",
    "dataset <- dataset[, -c(22:23)]"
   ]
  },
  {
   "cell_type": "code",
   "execution_count": 5,
   "id": "a6aeb52b",
   "metadata": {},
   "outputs": [
    {
     "data": {
      "text/plain": [
       "   CLIENTNUM                   Attrition_Flag  Customer_Age   Gender  \n",
       " Min.   :708082083   Attrited Customer:1627   Min.   :26.00   F:5358  \n",
       " 1st Qu.:713036770   Existing Customer:8500   1st Qu.:41.00   M:4769  \n",
       " Median :717926358                            Median :46.00           \n",
       " Mean   :739177606                            Mean   :46.33           \n",
       " 3rd Qu.:773143533                            3rd Qu.:52.00           \n",
       " Max.   :828343083                            Max.   :73.00           \n",
       "                                                                      \n",
       " Dependent_count      Education_Level  Marital_Status       Income_Category\n",
       " Min.   :0.000   College      :1013   Divorced: 748   $120K +       : 727  \n",
       " 1st Qu.:1.000   Doctorate    : 451   Married :4687   $40K - $60K   :1790  \n",
       " Median :2.000   Graduate     :3128   Single  :3943   $60K - $80K   :1402  \n",
       " Mean   :2.346   High School  :2013   Unknown : 749   $80K - $120K  :1535  \n",
       " 3rd Qu.:3.000   Post-Graduate: 516                   Less than $40K:3561  \n",
       " Max.   :5.000   Uneducated   :1487                   Unknown       :1112  \n",
       "                 Unknown      :1519                                        \n",
       "  Card_Category  Months_on_book  Total_Relationship_Count\n",
       " Blue    :9436   Min.   :13.00   Min.   :1.000           \n",
       " Gold    : 116   1st Qu.:31.00   1st Qu.:3.000           \n",
       " Platinum:  20   Median :36.00   Median :4.000           \n",
       " Silver  : 555   Mean   :35.93   Mean   :3.813           \n",
       "                 3rd Qu.:40.00   3rd Qu.:5.000           \n",
       "                 Max.   :56.00   Max.   :6.000           \n",
       "                                                         \n",
       " Months_Inactive_12_mon Contacts_Count_12_mon  Credit_Limit  \n",
       " Min.   :0.000          Min.   :0.000         Min.   : 1438  \n",
       " 1st Qu.:2.000          1st Qu.:2.000         1st Qu.: 2555  \n",
       " Median :2.000          Median :2.000         Median : 4549  \n",
       " Mean   :2.341          Mean   :2.455         Mean   : 8632  \n",
       " 3rd Qu.:3.000          3rd Qu.:3.000         3rd Qu.:11068  \n",
       " Max.   :6.000          Max.   :6.000         Max.   :34516  \n",
       "                                                             \n",
       " Total_Revolving_Bal Avg_Open_To_Buy Total_Amt_Chng_Q4_Q1 Total_Trans_Amt\n",
       " Min.   :   0        Min.   :    3   Min.   :0.0000       Min.   :  510  \n",
       " 1st Qu.: 359        1st Qu.: 1324   1st Qu.:0.6310       1st Qu.: 2156  \n",
       " Median :1276        Median : 3474   Median :0.7360       Median : 3899  \n",
       " Mean   :1163        Mean   : 7469   Mean   :0.7599       Mean   : 4404  \n",
       " 3rd Qu.:1784        3rd Qu.: 9859   3rd Qu.:0.8590       3rd Qu.: 4741  \n",
       " Max.   :2517        Max.   :34516   Max.   :3.3970       Max.   :18484  \n",
       "                                                                         \n",
       " Total_Trans_Ct   Total_Ct_Chng_Q4_Q1 Avg_Utilization_Ratio\n",
       " Min.   : 10.00   Min.   :0.0000      Min.   :0.0000       \n",
       " 1st Qu.: 45.00   1st Qu.:0.5820      1st Qu.:0.0230       \n",
       " Median : 67.00   Median :0.7020      Median :0.1760       \n",
       " Mean   : 64.86   Mean   :0.7122      Mean   :0.2749       \n",
       " 3rd Qu.: 81.00   3rd Qu.:0.8180      3rd Qu.:0.5030       \n",
       " Max.   :139.00   Max.   :3.7140      Max.   :0.9990       \n",
       "                                                           "
      ]
     },
     "metadata": {},
     "output_type": "display_data"
    }
   ],
   "source": [
    "summary(dataset)"
   ]
  },
  {
   "cell_type": "code",
   "execution_count": 6,
   "id": "c19ea0b9",
   "metadata": {},
   "outputs": [
    {
     "name": "stdout",
     "output_type": "stream",
     "text": [
      "'data.frame':\t10127 obs. of  21 variables:\n",
      " $ CLIENTNUM               : int  768805383 818770008 713982108 769911858 709106358 713061558 810347208 818906208 710930508 719661558 ...\n",
      " $ Attrition_Flag          : Factor w/ 2 levels \"Attrited Customer\",..: 2 2 2 2 2 2 2 2 2 2 ...\n",
      " $ Customer_Age            : int  45 49 51 40 40 44 51 32 37 48 ...\n",
      " $ Gender                  : Factor w/ 2 levels \"F\",\"M\": 2 1 2 1 2 2 2 2 2 2 ...\n",
      " $ Dependent_count         : int  3 5 3 4 3 2 4 0 3 2 ...\n",
      " $ Education_Level         : Factor w/ 7 levels \"College\",\"Doctorate\",..: 4 3 3 4 6 3 7 4 6 3 ...\n",
      " $ Marital_Status          : Factor w/ 4 levels \"Divorced\",\"Married\",..: 2 3 2 4 2 2 2 4 3 3 ...\n",
      " $ Income_Category         : Factor w/ 6 levels \"$120K +\",\"$40K - $60K\",..: 3 5 4 5 3 2 1 3 3 4 ...\n",
      " $ Card_Category           : Factor w/ 4 levels \"Blue\",\"Gold\",..: 1 1 1 1 1 1 2 4 1 1 ...\n",
      " $ Months_on_book          : int  39 44 36 34 21 36 46 27 36 36 ...\n",
      " $ Total_Relationship_Count: int  5 6 4 3 5 3 6 2 5 6 ...\n",
      " $ Months_Inactive_12_mon  : int  1 1 1 4 1 1 1 2 2 3 ...\n",
      " $ Contacts_Count_12_mon   : int  3 2 0 1 0 2 3 2 0 3 ...\n",
      " $ Credit_Limit            : num  12691 8256 3418 3313 4716 ...\n",
      " $ Total_Revolving_Bal     : int  777 864 0 2517 0 1247 2264 1396 2517 1677 ...\n",
      " $ Avg_Open_To_Buy         : num  11914 7392 3418 796 4716 ...\n",
      " $ Total_Amt_Chng_Q4_Q1    : num  1.33 1.54 2.59 1.4 2.17 ...\n",
      " $ Total_Trans_Amt         : int  1144 1291 1887 1171 816 1088 1330 1538 1350 1441 ...\n",
      " $ Total_Trans_Ct          : int  42 33 20 20 28 24 31 36 24 32 ...\n",
      " $ Total_Ct_Chng_Q4_Q1     : num  1.62 3.71 2.33 2.33 2.5 ...\n",
      " $ Avg_Utilization_Ratio   : num  0.061 0.105 0 0.76 0 0.311 0.066 0.048 0.113 0.144 ...\n"
     ]
    }
   ],
   "source": [
    "str(dataset)"
   ]
  },
  {
   "cell_type": "markdown",
   "id": "c2516313",
   "metadata": {},
   "source": [
    "# Here we display the distribution of customers who leaves depending on their education level"
   ]
  },
  {
   "cell_type": "code",
   "execution_count": 8,
   "id": "056998c4",
   "metadata": {},
   "outputs": [
    {
     "data": {
      "image/png": "[encoded data removed]",
      "text/plain": [
       "plot without title"
      ]
     },
     "metadata": {},
     "output_type": "display_data"
    }
   ],
   "source": [
    "dataset %>%\n",
    "ggplot(aes(x=Education_Level,fill=Attrition_Flag))+\n",
    "geom_bar(alpha=0.5,position = \"fill\")"
   ]
  },
  {
   "cell_type": "code",
   "execution_count": null,
   "id": "c37f3ff2",
   "metadata": {},
   "outputs": [],
   "source": []
  },
  {
   "cell_type": "code",
   "execution_count": null,
   "id": "10972e8b",
   "metadata": {},
   "outputs": [],
   "source": []
  },
  {
   "cell_type": "code",
   "execution_count": null,
   "id": "9442fd8e",
   "metadata": {},
   "outputs": [],
   "source": []
  },
  {
   "cell_type": "code",
   "execution_count": null,
   "id": "07db71c3",
   "metadata": {},
   "outputs": [],
   "source": []
  },
  {
   "cell_type": "code",
   "execution_count": null,
   "id": "fd7fe30b",
   "metadata": {},
   "outputs": [],
   "source": []
  }
 ],
 "metadata": {
  "kernelspec": {
   "display_name": "R",
   "language": "R",
   "name": "ir"
  },
  "language_info": {
   "codemirror_mode": "r",
   "file_extension": ".r",
   "mimetype": "text/x-r-source",
   "name": "R",
   "pygments_lexer": "r",
   "version": "3.6.1"
  }
 },
 "nbformat": 4,
 "nbformat_minor": 5
}
